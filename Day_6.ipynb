{
 "cells": [
  {
   "cell_type": "code",
   "execution_count": 1,
   "metadata": {},
   "outputs": [],
   "source": [
    "import pandas as pd\n",
    "import numpy as np\n",
    "import tensorflow as tf "
   ]
  },
  {
   "cell_type": "code",
   "execution_count": 2,
   "metadata": {},
   "outputs": [
    {
     "data": {
      "text/plain": [
       "'2.10.0'"
      ]
     },
     "execution_count": 2,
     "metadata": {},
     "output_type": "execute_result"
    }
   ],
   "source": [
    "tf.__version__"
   ]
  },
  {
   "cell_type": "code",
   "execution_count": 3,
   "metadata": {},
   "outputs": [],
   "source": [
    "df=pd.read_csv(\"C:/Users/Admin/Downloads/Churn_Modelling.csv\")"
   ]
  },
  {
   "cell_type": "code",
   "execution_count": 4,
   "metadata": {},
   "outputs": [
    {
     "data": {
      "text/html": [
       "<div>\n",
       "<style scoped>\n",
       "    .dataframe tbody tr th:only-of-type {\n",
       "        vertical-align: middle;\n",
       "    }\n",
       "\n",
       "    .dataframe tbody tr th {\n",
       "        vertical-align: top;\n",
       "    }\n",
       "\n",
       "    .dataframe thead th {\n",
       "        text-align: right;\n",
       "    }\n",
       "</style>\n",
       "<table border=\"1\" class=\"dataframe\">\n",
       "  <thead>\n",
       "    <tr style=\"text-align: right;\">\n",
       "      <th></th>\n",
       "      <th>RowNumber</th>\n",
       "      <th>CustomerId</th>\n",
       "      <th>Surname</th>\n",
       "      <th>CreditScore</th>\n",
       "      <th>Geography</th>\n",
       "      <th>Gender</th>\n",
       "      <th>Age</th>\n",
       "      <th>Tenure</th>\n",
       "      <th>Balance</th>\n",
       "      <th>NumOfProducts</th>\n",
       "      <th>HasCrCard</th>\n",
       "      <th>IsActiveMember</th>\n",
       "      <th>EstimatedSalary</th>\n",
       "      <th>Exited</th>\n",
       "    </tr>\n",
       "  </thead>\n",
       "  <tbody>\n",
       "    <tr>\n",
       "      <th>0</th>\n",
       "      <td>1</td>\n",
       "      <td>15634602</td>\n",
       "      <td>Hargrave</td>\n",
       "      <td>619</td>\n",
       "      <td>France</td>\n",
       "      <td>Female</td>\n",
       "      <td>42</td>\n",
       "      <td>2</td>\n",
       "      <td>0.00</td>\n",
       "      <td>1</td>\n",
       "      <td>1</td>\n",
       "      <td>1</td>\n",
       "      <td>101348.88</td>\n",
       "      <td>1</td>\n",
       "    </tr>\n",
       "    <tr>\n",
       "      <th>1</th>\n",
       "      <td>2</td>\n",
       "      <td>15647311</td>\n",
       "      <td>Hill</td>\n",
       "      <td>608</td>\n",
       "      <td>Spain</td>\n",
       "      <td>Female</td>\n",
       "      <td>41</td>\n",
       "      <td>1</td>\n",
       "      <td>83807.86</td>\n",
       "      <td>1</td>\n",
       "      <td>0</td>\n",
       "      <td>1</td>\n",
       "      <td>112542.58</td>\n",
       "      <td>0</td>\n",
       "    </tr>\n",
       "    <tr>\n",
       "      <th>2</th>\n",
       "      <td>3</td>\n",
       "      <td>15619304</td>\n",
       "      <td>Onio</td>\n",
       "      <td>502</td>\n",
       "      <td>France</td>\n",
       "      <td>Female</td>\n",
       "      <td>42</td>\n",
       "      <td>8</td>\n",
       "      <td>159660.80</td>\n",
       "      <td>3</td>\n",
       "      <td>1</td>\n",
       "      <td>0</td>\n",
       "      <td>113931.57</td>\n",
       "      <td>1</td>\n",
       "    </tr>\n",
       "    <tr>\n",
       "      <th>3</th>\n",
       "      <td>4</td>\n",
       "      <td>15701354</td>\n",
       "      <td>Boni</td>\n",
       "      <td>699</td>\n",
       "      <td>France</td>\n",
       "      <td>Female</td>\n",
       "      <td>39</td>\n",
       "      <td>1</td>\n",
       "      <td>0.00</td>\n",
       "      <td>2</td>\n",
       "      <td>0</td>\n",
       "      <td>0</td>\n",
       "      <td>93826.63</td>\n",
       "      <td>0</td>\n",
       "    </tr>\n",
       "    <tr>\n",
       "      <th>4</th>\n",
       "      <td>5</td>\n",
       "      <td>15737888</td>\n",
       "      <td>Mitchell</td>\n",
       "      <td>850</td>\n",
       "      <td>Spain</td>\n",
       "      <td>Female</td>\n",
       "      <td>43</td>\n",
       "      <td>2</td>\n",
       "      <td>125510.82</td>\n",
       "      <td>1</td>\n",
       "      <td>1</td>\n",
       "      <td>1</td>\n",
       "      <td>79084.10</td>\n",
       "      <td>0</td>\n",
       "    </tr>\n",
       "  </tbody>\n",
       "</table>\n",
       "</div>"
      ],
      "text/plain": [
       "   RowNumber  CustomerId   Surname  CreditScore Geography  Gender  Age  \\\n",
       "0          1    15634602  Hargrave          619    France  Female   42   \n",
       "1          2    15647311      Hill          608     Spain  Female   41   \n",
       "2          3    15619304      Onio          502    France  Female   42   \n",
       "3          4    15701354      Boni          699    France  Female   39   \n",
       "4          5    15737888  Mitchell          850     Spain  Female   43   \n",
       "\n",
       "   Tenure    Balance  NumOfProducts  HasCrCard  IsActiveMember  \\\n",
       "0       2       0.00              1          1               1   \n",
       "1       1   83807.86              1          0               1   \n",
       "2       8  159660.80              3          1               0   \n",
       "3       1       0.00              2          0               0   \n",
       "4       2  125510.82              1          1               1   \n",
       "\n",
       "   EstimatedSalary  Exited  \n",
       "0        101348.88       1  \n",
       "1        112542.58       0  \n",
       "2        113931.57       1  \n",
       "3         93826.63       0  \n",
       "4         79084.10       0  "
      ]
     },
     "execution_count": 4,
     "metadata": {},
     "output_type": "execute_result"
    }
   ],
   "source": [
    "df.head()"
   ]
  },
  {
   "cell_type": "code",
   "execution_count": 5,
   "metadata": {},
   "outputs": [],
   "source": [
    "X=df.iloc[:,3:-1].values\n",
    "y=df.iloc[:,-1].values"
   ]
  },
  {
   "cell_type": "code",
   "execution_count": 6,
   "metadata": {},
   "outputs": [
    {
     "name": "stdout",
     "output_type": "stream",
     "text": [
      "[[619 'France' 'Female' ... 1 1 101348.88]\n",
      " [608 'Spain' 'Female' ... 0 1 112542.58]\n",
      " [502 'France' 'Female' ... 1 0 113931.57]\n",
      " ...\n",
      " [709 'France' 'Female' ... 0 1 42085.58]\n",
      " [772 'Germany' 'Male' ... 1 0 92888.52]\n",
      " [792 'France' 'Female' ... 1 0 38190.78]]\n"
     ]
    }
   ],
   "source": [
    "print(X)"
   ]
  },
  {
   "cell_type": "code",
   "execution_count": 7,
   "metadata": {},
   "outputs": [
    {
     "name": "stdout",
     "output_type": "stream",
     "text": [
      "[1 0 1 ... 1 1 0]\n"
     ]
    }
   ],
   "source": [
    "print(y)"
   ]
  },
  {
   "cell_type": "code",
   "execution_count": 8,
   "metadata": {},
   "outputs": [],
   "source": [
    "from sklearn.preprocessing import LabelEncoder\n",
    "la=LabelEncoder()\n",
    "X[:,2]=la.fit_transform(X[:,2])"
   ]
  },
  {
   "cell_type": "code",
   "execution_count": 9,
   "metadata": {},
   "outputs": [
    {
     "name": "stdout",
     "output_type": "stream",
     "text": [
      "[[619 'France' 0 ... 1 1 101348.88]\n",
      " [608 'Spain' 0 ... 0 1 112542.58]\n",
      " [502 'France' 0 ... 1 0 113931.57]\n",
      " ...\n",
      " [709 'France' 0 ... 0 1 42085.58]\n",
      " [772 'Germany' 1 ... 1 0 92888.52]\n",
      " [792 'France' 0 ... 1 0 38190.78]]\n"
     ]
    },
    {
     "data": {
      "text/plain": [
       "(10000, 10)"
      ]
     },
     "execution_count": 9,
     "metadata": {},
     "output_type": "execute_result"
    }
   ],
   "source": [
    "print(X)\n",
    "X.shape"
   ]
  },
  {
   "cell_type": "code",
   "execution_count": 10,
   "metadata": {},
   "outputs": [],
   "source": [
    "from sklearn.compose import ColumnTransformer\n",
    "from sklearn.preprocessing import OneHotEncoder\n",
    "ct=ColumnTransformer(transformers=[('encoder',OneHotEncoder(),[1])],remainder='passthrough')\n",
    "X=np.array(ct.fit_transform(X))"
   ]
  },
  {
   "cell_type": "code",
   "execution_count": 11,
   "metadata": {},
   "outputs": [
    {
     "data": {
      "text/plain": [
       "(10000, 12)"
      ]
     },
     "execution_count": 11,
     "metadata": {},
     "output_type": "execute_result"
    }
   ],
   "source": [
    "X.shape"
   ]
  },
  {
   "cell_type": "code",
   "execution_count": 12,
   "metadata": {},
   "outputs": [],
   "source": [
    "from sklearn.model_selection import train_test_split\n",
    "X_train,X_test,y_train,y_test=train_test_split(X,y,random_state=52,test_size=0.2)"
   ]
  },
  {
   "cell_type": "code",
   "execution_count": 13,
   "metadata": {},
   "outputs": [],
   "source": [
    "from sklearn.preprocessing import StandardScaler\n",
    "sc=StandardScaler()\n",
    "X_train=sc.fit_transform(X_train)\n",
    "X_test=sc.transform(X_test)"
   ]
  },
  {
   "cell_type": "code",
   "execution_count": 14,
   "metadata": {},
   "outputs": [],
   "source": [
    "ann=tf.keras.Sequential()"
   ]
  },
  {
   "cell_type": "code",
   "execution_count": 15,
   "metadata": {},
   "outputs": [],
   "source": [
    "ann.add(tf.keras.layers.Dense(units=6, activation='relu'))"
   ]
  },
  {
   "cell_type": "code",
   "execution_count": 16,
   "metadata": {},
   "outputs": [],
   "source": [
    "ann.add(tf.keras.layers.Dense(units=6,activation='relu'))"
   ]
  },
  {
   "cell_type": "code",
   "execution_count": 17,
   "metadata": {},
   "outputs": [],
   "source": [
    "ann.add(tf.keras.layers.Dense(units=1,activation='sigmoid'))"
   ]
  },
  {
   "cell_type": "code",
   "execution_count": 18,
   "metadata": {},
   "outputs": [],
   "source": [
    "ann.compile(optimizer='adam',loss='binary_crossentropy',metrics=['accuracy'])\n",
    "#activation=softmax"
   ]
  },
  {
   "cell_type": "code",
   "execution_count": 19,
   "metadata": {},
   "outputs": [
    {
     "name": "stdout",
     "output_type": "stream",
     "text": [
      "Epoch 1/100\n",
      "250/250 [==============================] - 1s 1ms/step - loss: 0.5791 - accuracy: 0.7129\n",
      "Epoch 2/100\n",
      "250/250 [==============================] - 0s 1ms/step - loss: 0.4629 - accuracy: 0.7980\n",
      "Epoch 3/100\n",
      "250/250 [==============================] - 0s 1ms/step - loss: 0.4393 - accuracy: 0.7980\n",
      "Epoch 4/100\n",
      "250/250 [==============================] - 0s 992us/step - loss: 0.4297 - accuracy: 0.7993\n",
      "Epoch 5/100\n",
      "250/250 [==============================] - 0s 976us/step - loss: 0.4217 - accuracy: 0.8055\n",
      "Epoch 6/100\n",
      "250/250 [==============================] - 0s 928us/step - loss: 0.4123 - accuracy: 0.8112\n",
      "Epoch 7/100\n",
      "250/250 [==============================] - 0s 992us/step - loss: 0.4018 - accuracy: 0.8179\n",
      "Epoch 8/100\n",
      "250/250 [==============================] - 0s 980us/step - loss: 0.3923 - accuracy: 0.8280\n",
      "Epoch 9/100\n",
      "250/250 [==============================] - 0s 976us/step - loss: 0.3834 - accuracy: 0.8340\n",
      "Epoch 10/100\n",
      "250/250 [==============================] - 0s 974us/step - loss: 0.3756 - accuracy: 0.8390\n",
      "Epoch 11/100\n",
      "250/250 [==============================] - 0s 1ms/step - loss: 0.3689 - accuracy: 0.8444\n",
      "Epoch 12/100\n",
      "250/250 [==============================] - 0s 998us/step - loss: 0.3632 - accuracy: 0.8494\n",
      "Epoch 13/100\n",
      "250/250 [==============================] - 0s 995us/step - loss: 0.3587 - accuracy: 0.8545\n",
      "Epoch 14/100\n",
      "250/250 [==============================] - 0s 988us/step - loss: 0.3545 - accuracy: 0.8551\n",
      "Epoch 15/100\n",
      "250/250 [==============================] - 0s 1ms/step - loss: 0.3502 - accuracy: 0.8577\n",
      "Epoch 16/100\n",
      "250/250 [==============================] - 0s 1ms/step - loss: 0.3477 - accuracy: 0.8596\n",
      "Epoch 17/100\n",
      "250/250 [==============================] - 0s 989us/step - loss: 0.3454 - accuracy: 0.8612\n",
      "Epoch 18/100\n",
      "250/250 [==============================] - 0s 993us/step - loss: 0.3437 - accuracy: 0.8604\n",
      "Epoch 19/100\n",
      "250/250 [==============================] - 0s 1ms/step - loss: 0.3421 - accuracy: 0.8620\n",
      "Epoch 20/100\n",
      "250/250 [==============================] - 0s 1ms/step - loss: 0.3412 - accuracy: 0.8616\n",
      "Epoch 21/100\n",
      "250/250 [==============================] - 0s 994us/step - loss: 0.3404 - accuracy: 0.8615\n",
      "Epoch 22/100\n",
      "250/250 [==============================] - 0s 1ms/step - loss: 0.3397 - accuracy: 0.8621\n",
      "Epoch 23/100\n",
      "250/250 [==============================] - 0s 1ms/step - loss: 0.3390 - accuracy: 0.8629\n",
      "Epoch 24/100\n",
      "250/250 [==============================] - 0s 1ms/step - loss: 0.3387 - accuracy: 0.8637\n",
      "Epoch 25/100\n",
      "250/250 [==============================] - 0s 976us/step - loss: 0.3385 - accuracy: 0.8646\n",
      "Epoch 26/100\n",
      "250/250 [==============================] - 0s 983us/step - loss: 0.3376 - accuracy: 0.8650\n",
      "Epoch 27/100\n",
      "250/250 [==============================] - 0s 1ms/step - loss: 0.3375 - accuracy: 0.8643\n",
      "Epoch 28/100\n",
      "250/250 [==============================] - 0s 1ms/step - loss: 0.3372 - accuracy: 0.8664\n",
      "Epoch 29/100\n",
      "250/250 [==============================] - 0s 1ms/step - loss: 0.3369 - accuracy: 0.8649\n",
      "Epoch 30/100\n",
      "250/250 [==============================] - 0s 1ms/step - loss: 0.3361 - accuracy: 0.8646\n",
      "Epoch 31/100\n",
      "250/250 [==============================] - 0s 996us/step - loss: 0.3359 - accuracy: 0.8650\n",
      "Epoch 32/100\n",
      "250/250 [==============================] - 0s 968us/step - loss: 0.3357 - accuracy: 0.8659\n",
      "Epoch 33/100\n",
      "250/250 [==============================] - 0s 975us/step - loss: 0.3356 - accuracy: 0.8658\n",
      "Epoch 34/100\n",
      "250/250 [==============================] - 0s 981us/step - loss: 0.3353 - accuracy: 0.8661\n",
      "Epoch 35/100\n",
      "250/250 [==============================] - 0s 976us/step - loss: 0.3347 - accuracy: 0.8660\n",
      "Epoch 36/100\n",
      "250/250 [==============================] - 0s 975us/step - loss: 0.3353 - accuracy: 0.8654\n",
      "Epoch 37/100\n",
      "250/250 [==============================] - 0s 973us/step - loss: 0.3348 - accuracy: 0.8666\n",
      "Epoch 38/100\n",
      "250/250 [==============================] - 0s 971us/step - loss: 0.3343 - accuracy: 0.8658\n",
      "Epoch 39/100\n",
      "250/250 [==============================] - 0s 974us/step - loss: 0.3344 - accuracy: 0.8649\n",
      "Epoch 40/100\n",
      "250/250 [==============================] - 0s 980us/step - loss: 0.3343 - accuracy: 0.8674\n",
      "Epoch 41/100\n",
      "250/250 [==============================] - 0s 969us/step - loss: 0.3343 - accuracy: 0.8662\n",
      "Epoch 42/100\n",
      "250/250 [==============================] - 0s 980us/step - loss: 0.3339 - accuracy: 0.8670\n",
      "Epoch 43/100\n",
      "250/250 [==============================] - 0s 942us/step - loss: 0.3339 - accuracy: 0.8666\n",
      "Epoch 44/100\n",
      "250/250 [==============================] - 0s 1ms/step - loss: 0.3333 - accuracy: 0.8669\n",
      "Epoch 45/100\n",
      "250/250 [==============================] - 0s 970us/step - loss: 0.3338 - accuracy: 0.8665\n",
      "Epoch 46/100\n",
      "250/250 [==============================] - 0s 985us/step - loss: 0.3336 - accuracy: 0.8649\n",
      "Epoch 47/100\n",
      "250/250 [==============================] - 0s 979us/step - loss: 0.3333 - accuracy: 0.8654\n",
      "Epoch 48/100\n",
      "250/250 [==============================] - 0s 988us/step - loss: 0.3331 - accuracy: 0.8658\n",
      "Epoch 49/100\n",
      "250/250 [==============================] - 0s 976us/step - loss: 0.3332 - accuracy: 0.8664\n",
      "Epoch 50/100\n",
      "250/250 [==============================] - 0s 1ms/step - loss: 0.3333 - accuracy: 0.8675\n",
      "Epoch 51/100\n",
      "250/250 [==============================] - 0s 969us/step - loss: 0.3331 - accuracy: 0.8665\n",
      "Epoch 52/100\n",
      "250/250 [==============================] - 0s 1ms/step - loss: 0.3332 - accuracy: 0.8659\n",
      "Epoch 53/100\n",
      "250/250 [==============================] - 0s 984us/step - loss: 0.3327 - accuracy: 0.8656\n",
      "Epoch 54/100\n",
      "250/250 [==============================] - 0s 975us/step - loss: 0.3330 - accuracy: 0.8666\n",
      "Epoch 55/100\n",
      "250/250 [==============================] - 0s 983us/step - loss: 0.3327 - accuracy: 0.8665\n",
      "Epoch 56/100\n",
      "250/250 [==============================] - 0s 980us/step - loss: 0.3327 - accuracy: 0.8660\n",
      "Epoch 57/100\n",
      "250/250 [==============================] - 0s 991us/step - loss: 0.3328 - accuracy: 0.8658\n",
      "Epoch 58/100\n",
      "250/250 [==============================] - 0s 981us/step - loss: 0.3328 - accuracy: 0.8670\n",
      "Epoch 59/100\n",
      "250/250 [==============================] - 0s 983us/step - loss: 0.3328 - accuracy: 0.8660\n",
      "Epoch 60/100\n",
      "250/250 [==============================] - 0s 988us/step - loss: 0.3321 - accuracy: 0.8670\n",
      "Epoch 61/100\n",
      "250/250 [==============================] - 0s 978us/step - loss: 0.3324 - accuracy: 0.8670\n",
      "Epoch 62/100\n",
      "250/250 [==============================] - 0s 984us/step - loss: 0.3325 - accuracy: 0.8655\n",
      "Epoch 63/100\n",
      "250/250 [==============================] - 0s 980us/step - loss: 0.3326 - accuracy: 0.8658\n",
      "Epoch 64/100\n",
      "250/250 [==============================] - 0s 974us/step - loss: 0.3325 - accuracy: 0.8661\n",
      "Epoch 65/100\n",
      "250/250 [==============================] - 0s 997us/step - loss: 0.3322 - accuracy: 0.8671\n",
      "Epoch 66/100\n",
      "250/250 [==============================] - 0s 976us/step - loss: 0.3324 - accuracy: 0.8673\n",
      "Epoch 67/100\n",
      "250/250 [==============================] - 0s 1ms/step - loss: 0.3322 - accuracy: 0.8677\n",
      "Epoch 68/100\n",
      "250/250 [==============================] - 0s 977us/step - loss: 0.3322 - accuracy: 0.8674\n",
      "Epoch 69/100\n",
      "250/250 [==============================] - 0s 975us/step - loss: 0.3319 - accuracy: 0.8668\n",
      "Epoch 70/100\n",
      "250/250 [==============================] - 0s 972us/step - loss: 0.3322 - accuracy: 0.8669\n",
      "Epoch 71/100\n",
      "250/250 [==============================] - 0s 976us/step - loss: 0.3325 - accuracy: 0.8673\n",
      "Epoch 72/100\n",
      "250/250 [==============================] - 0s 982us/step - loss: 0.3322 - accuracy: 0.8669\n",
      "Epoch 73/100\n",
      "250/250 [==============================] - 0s 974us/step - loss: 0.3318 - accuracy: 0.8658\n",
      "Epoch 74/100\n",
      "250/250 [==============================] - 0s 978us/step - loss: 0.3318 - accuracy: 0.8666\n",
      "Epoch 75/100\n",
      "250/250 [==============================] - 0s 974us/step - loss: 0.3320 - accuracy: 0.8668\n",
      "Epoch 76/100\n",
      "250/250 [==============================] - 0s 984us/step - loss: 0.3319 - accuracy: 0.8676\n",
      "Epoch 77/100\n",
      "250/250 [==============================] - 0s 980us/step - loss: 0.3318 - accuracy: 0.8670\n",
      "Epoch 78/100\n",
      "250/250 [==============================] - 0s 973us/step - loss: 0.3318 - accuracy: 0.8674\n",
      "Epoch 79/100\n",
      "250/250 [==============================] - 0s 972us/step - loss: 0.3320 - accuracy: 0.8683\n",
      "Epoch 80/100\n"
     ]
    },
    {
     "name": "stdout",
     "output_type": "stream",
     "text": [
      "250/250 [==============================] - 0s 980us/step - loss: 0.3320 - accuracy: 0.8668\n",
      "Epoch 81/100\n",
      "250/250 [==============================] - 0s 970us/step - loss: 0.3319 - accuracy: 0.8671\n",
      "Epoch 82/100\n",
      "250/250 [==============================] - 0s 972us/step - loss: 0.3314 - accuracy: 0.8666\n",
      "Epoch 83/100\n",
      "250/250 [==============================] - 0s 967us/step - loss: 0.3316 - accuracy: 0.8674\n",
      "Epoch 84/100\n",
      "250/250 [==============================] - 0s 968us/step - loss: 0.3317 - accuracy: 0.8668\n",
      "Epoch 85/100\n",
      "250/250 [==============================] - 0s 983us/step - loss: 0.3314 - accuracy: 0.8666\n",
      "Epoch 86/100\n",
      "250/250 [==============================] - 0s 968us/step - loss: 0.3317 - accuracy: 0.8677\n",
      "Epoch 87/100\n",
      "250/250 [==============================] - 0s 970us/step - loss: 0.3315 - accuracy: 0.8676\n",
      "Epoch 88/100\n",
      "250/250 [==============================] - 0s 971us/step - loss: 0.3314 - accuracy: 0.8660\n",
      "Epoch 89/100\n",
      "250/250 [==============================] - 0s 976us/step - loss: 0.3312 - accuracy: 0.8662\n",
      "Epoch 90/100\n",
      "250/250 [==============================] - 0s 972us/step - loss: 0.3313 - accuracy: 0.8675\n",
      "Epoch 91/100\n",
      "250/250 [==============================] - 0s 972us/step - loss: 0.3315 - accuracy: 0.8676\n",
      "Epoch 92/100\n",
      "250/250 [==============================] - 0s 1ms/step - loss: 0.3312 - accuracy: 0.8674\n",
      "Epoch 93/100\n",
      "250/250 [==============================] - 0s 1ms/step - loss: 0.3313 - accuracy: 0.8671\n",
      "Epoch 94/100\n",
      "250/250 [==============================] - 0s 1ms/step - loss: 0.3312 - accuracy: 0.8673\n",
      "Epoch 95/100\n",
      "250/250 [==============================] - 0s 1ms/step - loss: 0.3309 - accuracy: 0.8679\n",
      "Epoch 96/100\n",
      "250/250 [==============================] - 0s 973us/step - loss: 0.3309 - accuracy: 0.8664\n",
      "Epoch 97/100\n",
      "250/250 [==============================] - 0s 973us/step - loss: 0.3312 - accuracy: 0.8659\n",
      "Epoch 98/100\n",
      "250/250 [==============================] - 0s 968us/step - loss: 0.3313 - accuracy: 0.8675\n",
      "Epoch 99/100\n",
      "250/250 [==============================] - 0s 968us/step - loss: 0.3312 - accuracy: 0.8660\n",
      "Epoch 100/100\n",
      "250/250 [==============================] - 0s 991us/step - loss: 0.3309 - accuracy: 0.8652\n"
     ]
    },
    {
     "data": {
      "text/plain": [
       "<keras.callbacks.History at 0x200e36656d0>"
      ]
     },
     "execution_count": 19,
     "metadata": {},
     "output_type": "execute_result"
    }
   ],
   "source": [
    "ann.fit(X_train,y_train,batch_size=32,epochs=100)"
   ]
  },
  {
   "cell_type": "code",
   "execution_count": 20,
   "metadata": {},
   "outputs": [
    {
     "data": {
      "text/plain": [
       "<function print>"
      ]
     },
     "execution_count": 20,
     "metadata": {},
     "output_type": "execute_result"
    }
   ],
   "source": [
    "y_pred=ann.predict(X_test)\n",
    "y_pred=(y_pred>0.5)\n",
    "print(np.concatenate())"
   ]
  }
 ],
 "metadata": {
  "kernelspec": {
   "display_name": "Python 3 (ipykernel)",
   "language": "python",
   "name": "python3"
  },
  "language_info": {
   "codemirror_mode": {
    "name": "ipython",
    "version": 3
   },
   "file_extension": ".py",
   "mimetype": "text/x-python",
   "name": "python",
   "nbconvert_exporter": "python",
   "pygments_lexer": "ipython3",
   "version": "3.8.18"
  },
  "varInspector": {
   "cols": {
    "lenName": 16,
    "lenType": 16,
    "lenVar": 40
   },
   "kernels_config": {
    "python": {
     "delete_cmd_postfix": "",
     "delete_cmd_prefix": "del ",
     "library": "var_list.py",
     "varRefreshCmd": "print(var_dic_list())"
    },
    "r": {
     "delete_cmd_postfix": ") ",
     "delete_cmd_prefix": "rm(",
     "library": "var_list.r",
     "varRefreshCmd": "cat(var_dic_list()) "
    }
   },
   "types_to_exclude": [
    "module",
    "function",
    "builtin_function_or_method",
    "instance",
    "_Feature"
   ],
   "window_display": false
  }
 },
 "nbformat": 4,
 "nbformat_minor": 4
}
