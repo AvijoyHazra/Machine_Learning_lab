{
 "cells": [
  {
   "cell_type": "code",
   "execution_count": 3,
   "id": "bebd4a91-d5a0-494e-83e4-aa022604a175",
   "metadata": {},
   "outputs": [],
   "source": [
    "import pandas as pd\n",
    "import numpy as np\n",
    "import seaborn as sns\n",
    "import matplotlib.pyplot as plt"
   ]
  },
  {
   "cell_type": "code",
   "execution_count": 4,
   "id": "e94e9677-6de0-4eba-a627-ee21e0b7aa84",
   "metadata": {},
   "outputs": [],
   "source": [
    "df=pd.read_csv(\"USA_Housing.csv\")"
   ]
  },
  {
   "cell_type": "code",
   "execution_count": 5,
   "id": "e442dfe7-ee03-47a6-a9da-fb50cc83b509",
   "metadata": {},
   "outputs": [
    {
     "data": {
      "text/html": [
       "<div>\n",
       "<style scoped>\n",
       "    .dataframe tbody tr th:only-of-type {\n",
       "        vertical-align: middle;\n",
       "    }\n",
       "\n",
       "    .dataframe tbody tr th {\n",
       "        vertical-align: top;\n",
       "    }\n",
       "\n",
       "    .dataframe thead th {\n",
       "        text-align: right;\n",
       "    }\n",
       "</style>\n",
       "<table border=\"1\" class=\"dataframe\">\n",
       "  <thead>\n",
       "    <tr style=\"text-align: right;\">\n",
       "      <th></th>\n",
       "      <th>Avg. Area Income</th>\n",
       "      <th>Avg. Area House Age</th>\n",
       "      <th>Avg. Area Number of Rooms</th>\n",
       "      <th>Avg. Area Number of Bedrooms</th>\n",
       "      <th>Area Population</th>\n",
       "      <th>Price</th>\n",
       "      <th>Address</th>\n",
       "    </tr>\n",
       "  </thead>\n",
       "  <tbody>\n",
       "    <tr>\n",
       "      <th>0</th>\n",
       "      <td>79545.458574</td>\n",
       "      <td>5.682861</td>\n",
       "      <td>7.009188</td>\n",
       "      <td>4.09</td>\n",
       "      <td>23086.800503</td>\n",
       "      <td>1.059034e+06</td>\n",
       "      <td>208 Michael Ferry Apt. 674\\nLaurabury, NE 3701...</td>\n",
       "    </tr>\n",
       "    <tr>\n",
       "      <th>1</th>\n",
       "      <td>79248.642455</td>\n",
       "      <td>6.002900</td>\n",
       "      <td>6.730821</td>\n",
       "      <td>3.09</td>\n",
       "      <td>40173.072174</td>\n",
       "      <td>1.505891e+06</td>\n",
       "      <td>188 Johnson Views Suite 079\\nLake Kathleen, CA...</td>\n",
       "    </tr>\n",
       "    <tr>\n",
       "      <th>2</th>\n",
       "      <td>61287.067179</td>\n",
       "      <td>5.865890</td>\n",
       "      <td>8.512727</td>\n",
       "      <td>5.13</td>\n",
       "      <td>36882.159400</td>\n",
       "      <td>1.058988e+06</td>\n",
       "      <td>9127 Elizabeth Stravenue\\nDanieltown, WI 06482...</td>\n",
       "    </tr>\n",
       "    <tr>\n",
       "      <th>3</th>\n",
       "      <td>63345.240046</td>\n",
       "      <td>7.188236</td>\n",
       "      <td>5.586729</td>\n",
       "      <td>3.26</td>\n",
       "      <td>34310.242831</td>\n",
       "      <td>1.260617e+06</td>\n",
       "      <td>USS Barnett\\nFPO AP 44820</td>\n",
       "    </tr>\n",
       "    <tr>\n",
       "      <th>4</th>\n",
       "      <td>59982.197226</td>\n",
       "      <td>5.040555</td>\n",
       "      <td>7.839388</td>\n",
       "      <td>4.23</td>\n",
       "      <td>26354.109472</td>\n",
       "      <td>6.309435e+05</td>\n",
       "      <td>USNS Raymond\\nFPO AE 09386</td>\n",
       "    </tr>\n",
       "  </tbody>\n",
       "</table>\n",
       "</div>"
      ],
      "text/plain": [
       "   Avg. Area Income  Avg. Area House Age  Avg. Area Number of Rooms  \\\n",
       "0      79545.458574             5.682861                   7.009188   \n",
       "1      79248.642455             6.002900                   6.730821   \n",
       "2      61287.067179             5.865890                   8.512727   \n",
       "3      63345.240046             7.188236                   5.586729   \n",
       "4      59982.197226             5.040555                   7.839388   \n",
       "\n",
       "   Avg. Area Number of Bedrooms  Area Population         Price  \\\n",
       "0                          4.09     23086.800503  1.059034e+06   \n",
       "1                          3.09     40173.072174  1.505891e+06   \n",
       "2                          5.13     36882.159400  1.058988e+06   \n",
       "3                          3.26     34310.242831  1.260617e+06   \n",
       "4                          4.23     26354.109472  6.309435e+05   \n",
       "\n",
       "                                             Address  \n",
       "0  208 Michael Ferry Apt. 674\\nLaurabury, NE 3701...  \n",
       "1  188 Johnson Views Suite 079\\nLake Kathleen, CA...  \n",
       "2  9127 Elizabeth Stravenue\\nDanieltown, WI 06482...  \n",
       "3                          USS Barnett\\nFPO AP 44820  \n",
       "4                         USNS Raymond\\nFPO AE 09386  "
      ]
     },
     "execution_count": 5,
     "metadata": {},
     "output_type": "execute_result"
    }
   ],
   "source": [
    "df.head()"
   ]
  },
  {
   "cell_type": "code",
   "execution_count": 6,
   "id": "6f1fa4cc-2cf7-4520-b64a-1825746c330f",
   "metadata": {},
   "outputs": [
    {
     "name": "stdout",
     "output_type": "stream",
     "text": [
      "<class 'pandas.core.frame.DataFrame'>\n",
      "RangeIndex: 5000 entries, 0 to 4999\n",
      "Data columns (total 7 columns):\n",
      " #   Column                        Non-Null Count  Dtype  \n",
      "---  ------                        --------------  -----  \n",
      " 0   Avg. Area Income              5000 non-null   float64\n",
      " 1   Avg. Area House Age           5000 non-null   float64\n",
      " 2   Avg. Area Number of Rooms     5000 non-null   float64\n",
      " 3   Avg. Area Number of Bedrooms  5000 non-null   float64\n",
      " 4   Area Population               5000 non-null   float64\n",
      " 5   Price                         5000 non-null   float64\n",
      " 6   Address                       5000 non-null   object \n",
      "dtypes: float64(6), object(1)\n",
      "memory usage: 273.6+ KB\n"
     ]
    }
   ],
   "source": [
    "df.info()"
   ]
  },
  {
   "cell_type": "code",
   "execution_count": 7,
   "id": "80f221b6-b592-4fd6-a678-4dbee4e8c955",
   "metadata": {},
   "outputs": [
    {
     "data": {
      "text/html": [
       "<div>\n",
       "<style scoped>\n",
       "    .dataframe tbody tr th:only-of-type {\n",
       "        vertical-align: middle;\n",
       "    }\n",
       "\n",
       "    .dataframe tbody tr th {\n",
       "        vertical-align: top;\n",
       "    }\n",
       "\n",
       "    .dataframe thead th {\n",
       "        text-align: right;\n",
       "    }\n",
       "</style>\n",
       "<table border=\"1\" class=\"dataframe\">\n",
       "  <thead>\n",
       "    <tr style=\"text-align: right;\">\n",
       "      <th></th>\n",
       "      <th>Avg. Area Income</th>\n",
       "      <th>Avg. Area House Age</th>\n",
       "      <th>Avg. Area Number of Rooms</th>\n",
       "      <th>Avg. Area Number of Bedrooms</th>\n",
       "      <th>Area Population</th>\n",
       "      <th>Price</th>\n",
       "    </tr>\n",
       "  </thead>\n",
       "  <tbody>\n",
       "    <tr>\n",
       "      <th>count</th>\n",
       "      <td>5000.000000</td>\n",
       "      <td>5000.000000</td>\n",
       "      <td>5000.000000</td>\n",
       "      <td>5000.000000</td>\n",
       "      <td>5000.000000</td>\n",
       "      <td>5.000000e+03</td>\n",
       "    </tr>\n",
       "    <tr>\n",
       "      <th>mean</th>\n",
       "      <td>68583.108984</td>\n",
       "      <td>5.977222</td>\n",
       "      <td>6.987792</td>\n",
       "      <td>3.981330</td>\n",
       "      <td>36163.516039</td>\n",
       "      <td>1.232073e+06</td>\n",
       "    </tr>\n",
       "    <tr>\n",
       "      <th>std</th>\n",
       "      <td>10657.991214</td>\n",
       "      <td>0.991456</td>\n",
       "      <td>1.005833</td>\n",
       "      <td>1.234137</td>\n",
       "      <td>9925.650114</td>\n",
       "      <td>3.531176e+05</td>\n",
       "    </tr>\n",
       "    <tr>\n",
       "      <th>min</th>\n",
       "      <td>17796.631190</td>\n",
       "      <td>2.644304</td>\n",
       "      <td>3.236194</td>\n",
       "      <td>2.000000</td>\n",
       "      <td>172.610686</td>\n",
       "      <td>1.593866e+04</td>\n",
       "    </tr>\n",
       "    <tr>\n",
       "      <th>25%</th>\n",
       "      <td>61480.562388</td>\n",
       "      <td>5.322283</td>\n",
       "      <td>6.299250</td>\n",
       "      <td>3.140000</td>\n",
       "      <td>29403.928702</td>\n",
       "      <td>9.975771e+05</td>\n",
       "    </tr>\n",
       "    <tr>\n",
       "      <th>50%</th>\n",
       "      <td>68804.286404</td>\n",
       "      <td>5.970429</td>\n",
       "      <td>7.002902</td>\n",
       "      <td>4.050000</td>\n",
       "      <td>36199.406689</td>\n",
       "      <td>1.232669e+06</td>\n",
       "    </tr>\n",
       "    <tr>\n",
       "      <th>75%</th>\n",
       "      <td>75783.338666</td>\n",
       "      <td>6.650808</td>\n",
       "      <td>7.665871</td>\n",
       "      <td>4.490000</td>\n",
       "      <td>42861.290769</td>\n",
       "      <td>1.471210e+06</td>\n",
       "    </tr>\n",
       "    <tr>\n",
       "      <th>max</th>\n",
       "      <td>107701.748378</td>\n",
       "      <td>9.519088</td>\n",
       "      <td>10.759588</td>\n",
       "      <td>6.500000</td>\n",
       "      <td>69621.713378</td>\n",
       "      <td>2.469066e+06</td>\n",
       "    </tr>\n",
       "  </tbody>\n",
       "</table>\n",
       "</div>"
      ],
      "text/plain": [
       "       Avg. Area Income  Avg. Area House Age  Avg. Area Number of Rooms  \\\n",
       "count       5000.000000          5000.000000                5000.000000   \n",
       "mean       68583.108984             5.977222                   6.987792   \n",
       "std        10657.991214             0.991456                   1.005833   \n",
       "min        17796.631190             2.644304                   3.236194   \n",
       "25%        61480.562388             5.322283                   6.299250   \n",
       "50%        68804.286404             5.970429                   7.002902   \n",
       "75%        75783.338666             6.650808                   7.665871   \n",
       "max       107701.748378             9.519088                  10.759588   \n",
       "\n",
       "       Avg. Area Number of Bedrooms  Area Population         Price  \n",
       "count                   5000.000000      5000.000000  5.000000e+03  \n",
       "mean                       3.981330     36163.516039  1.232073e+06  \n",
       "std                        1.234137      9925.650114  3.531176e+05  \n",
       "min                        2.000000       172.610686  1.593866e+04  \n",
       "25%                        3.140000     29403.928702  9.975771e+05  \n",
       "50%                        4.050000     36199.406689  1.232669e+06  \n",
       "75%                        4.490000     42861.290769  1.471210e+06  \n",
       "max                        6.500000     69621.713378  2.469066e+06  "
      ]
     },
     "execution_count": 7,
     "metadata": {},
     "output_type": "execute_result"
    }
   ],
   "source": [
    "df.describe()"
   ]
  },
  {
   "cell_type": "code",
   "execution_count": 18,
   "id": "c433c23e-922b-4b90-b15f-7000eb97d590",
   "metadata": {},
   "outputs": [],
   "source": [
    "X=df.iloc[:,1].values"
   ]
  },
  {
   "cell_type": "code",
   "execution_count": 19,
   "id": "8e5ff2cf-bbbf-4901-8a95-57fe26a3c244",
   "metadata": {},
   "outputs": [
    {
     "data": {
      "text/plain": [
       "array([5.68286132, 6.00289981, 5.86588984, ..., 7.25059061, 5.53438842,\n",
       "       5.99230531])"
      ]
     },
     "execution_count": 19,
     "metadata": {},
     "output_type": "execute_result"
    }
   ],
   "source": [
    "X"
   ]
  },
  {
   "cell_type": "code",
   "execution_count": 20,
   "id": "64113029-c865-474f-ae6a-bfb988f8f416",
   "metadata": {},
   "outputs": [],
   "source": [
    "y=df.iloc[:,5].values"
   ]
  },
  {
   "cell_type": "code",
   "execution_count": 21,
   "id": "9064774d-e6d2-4508-be70-9269e09a8f89",
   "metadata": {},
   "outputs": [],
   "source": [
    "from sklearn.model_selection import train_test_split"
   ]
  },
  {
   "cell_type": "code",
   "execution_count": 22,
   "id": "efeb2f0e-1019-4fe9-a4ff-c61454254a6b",
   "metadata": {},
   "outputs": [],
   "source": [
    "X_train,X_test,y_train,y_test=train_test_split(X,y,test_size=0.3,random_state=52)"
   ]
  },
  {
   "cell_type": "code",
   "execution_count": 46,
   "id": "ff7f04aa-3882-4834-bdc6-9fa7f3f29fe5",
   "metadata": {},
   "outputs": [],
   "source": [
    "class Mylr:\n",
    "    def __init__(self):\n",
    "        self.m=None\n",
    "        self.b=None\n",
    "    def fit(self,X_train,y_train):\n",
    "        num=0\n",
    "        den=0\n",
    "        for i in range(X_train.shape[0]):\n",
    "            num=num+(X_train[i]-X_train.mean())*(y_train[i]-y_train.mean())\n",
    "            den=den+(X_train[i]-X_train.mean())**2\n",
    "        self.m=num/den\n",
    "        self.b=y_train.mean()-(self.m*X_train.mean())\n",
    "    def predict(self,X_test):\n",
    "        a=[]\n",
    "        for i in range(X_test.shape[0]):\n",
    "             a.append((self.m*X_test[i]+self.m))\n",
    "        return a"
   ]
  },
  {
   "cell_type": "code",
   "execution_count": 47,
   "id": "8bd3df0c-41ea-480e-9f2a-add4bf83b75f",
   "metadata": {},
   "outputs": [],
   "source": [
    "lr=Mylr()"
   ]
  },
  {
   "cell_type": "code",
   "execution_count": 48,
   "id": "40b4f396-3134-4aae-a64f-a20df9d1f8a9",
   "metadata": {},
   "outputs": [],
   "source": [
    "lr.fit(X_train,y_train)"
   ]
  },
  {
   "cell_type": "code",
   "execution_count": 49,
   "id": "0588d46c-ce51-4c4c-9d42-c8347887b193",
   "metadata": {},
   "outputs": [],
   "source": [
    "y_pred=lr.predict(X_test)"
   ]
  },
  {
   "cell_type": "code",
   "execution_count": 50,
   "id": "7f1c3c6d-6158-4f40-b311-e1e3de2e38d2",
   "metadata": {},
   "outputs": [],
   "source": [
    "from sklearn.metrics import mean_absolute_error,mean_squared_error,r2_score"
   ]
  },
  {
   "cell_type": "code",
   "execution_count": 51,
   "id": "663ddd7b-b7fe-47eb-b68f-577bc9bfc623",
   "metadata": {},
   "outputs": [
    {
     "data": {
      "text/plain": [
       "268903.30452434724"
      ]
     },
     "execution_count": 51,
     "metadata": {},
     "output_type": "execute_result"
    }
   ],
   "source": [
    "mean_absolute_error(y_test,y_pred)"
   ]
  },
  {
   "cell_type": "code",
   "execution_count": 52,
   "id": "671ae704-37bc-45bf-90f6-2ca5915cf170",
   "metadata": {},
   "outputs": [],
   "source": [
    "from sklearn.linear_model import LinearRegression\n",
    "Meralr=LinearRegression()\n",
    "Meralr.fit(X_train.reshape(-1,1),y_train.reshape(-1,1))\n",
    "y_pred=Meralr.predict(X_test.reshape(-1,1))"
   ]
  },
  {
   "cell_type": "code",
   "execution_count": 53,
   "id": "99a0bddc-87a8-46c7-b12d-5aae8db8ac1a",
   "metadata": {},
   "outputs": [
    {
     "data": {
      "text/plain": [
       "250320.44709255878"
      ]
     },
     "execution_count": 53,
     "metadata": {},
     "output_type": "execute_result"
    }
   ],
   "source": [
    "from sklearn.metrics import mean_absolute_error\n",
    "mean_absolute_error(y_test,y_pred)"
   ]
  },
  {
   "cell_type": "code",
   "execution_count": 56,
   "id": "3673d5e4-d005-4d49-adfb-f3b9a4196b6c",
   "metadata": {},
   "outputs": [
    {
     "data": {
      "text/plain": [
       "[<matplotlib.lines.Line2D at 0x1eb7dbe3a90>]"
      ]
     },
     "execution_count": 56,
     "metadata": {},
     "output_type": "execute_result"
    },
    {
     "data": {
      "image/png": "[encoded data removed]",
      "text/plain": [
       "<Figure size 640x480 with 1 Axes>"
      ]
     },
     "metadata": {},
     "output_type": "display_data"
    }
   ],
   "source": [
    "plt.scatter(X_train,y_train)\n",
    "plt.plot(X_test,y_pred,'r')"
   ]
  },
  {
   "cell_type": "code",
   "execution_count": 91,
   "id": "87c5893c-352c-457a-8445-7f21561102b0",
   "metadata": {},
   "outputs": [],
   "source": [
    "class Mlr:\n",
    "    def __init__(self):\n",
    "        self.m=None\n",
    "        self.b=None\n",
    "    def fit(self,X_train,y_train):\n",
    "        X_train=np.insert(X_train,0,1,axis=1)\n",
    "        betas=np.linalg.inv(np.dot(X_train.T,X_train)).dot(X_train.T).dot(y_train)\n",
    "        self.b=betas[0]\n",
    "        self.m=betas[1:]\n",
    "    def predict(self,X_test):\n",
    "        y_pred=np.dot(X_test,self.m)+self.b\n",
    "        return y_pred"
   ]
  },
  {
   "cell_type": "code",
   "execution_count": 92,
   "id": "76c17b21-1206-4a20-9f55-c1a216e181e1",
   "metadata": {},
   "outputs": [
    {
     "data": {
      "text/plain": [
       "284769.5152521436"
      ]
     },
     "execution_count": 92,
     "metadata": {},
     "output_type": "execute_result"
    }
   ],
   "source": [
    "lr.b"
   ]
  },
  {
   "cell_type": "code",
   "execution_count": 93,
   "id": "4784d76c-0b11-4607-bdc3-6836d82d1c46",
   "metadata": {},
   "outputs": [
    {
     "data": {
      "text/plain": [
       "158448.2582997166"
      ]
     },
     "execution_count": 93,
     "metadata": {},
     "output_type": "execute_result"
    }
   ],
   "source": [
    "lr.m"
   ]
  },
  {
   "cell_type": "code",
   "execution_count": 94,
   "id": "a32e4a5e-c227-4523-ab53-7b35edec7b5a",
   "metadata": {},
   "outputs": [
    {
     "data": {
      "text/plain": [
       "array([[158448.25829972]])"
      ]
     },
     "execution_count": 94,
     "metadata": {},
     "output_type": "execute_result"
    }
   ],
   "source": [
    "Meralr.coef_"
   ]
  },
  {
   "cell_type": "code",
   "execution_count": 95,
   "id": "0d9872fd-8449-451c-92d8-23b2fe2e12ff",
   "metadata": {},
   "outputs": [
    {
     "data": {
      "text/plain": [
       "array([284769.51525214])"
      ]
     },
     "execution_count": 95,
     "metadata": {},
     "output_type": "execute_result"
    }
   ],
   "source": [
    "Meralr.intercept_"
   ]
  },
  {
   "cell_type": "code",
   "execution_count": 96,
   "id": "77fb2d40-9771-4db1-b14a-e32b574805eb",
   "metadata": {},
   "outputs": [],
   "source": [
    "Mulr=Mlr()"
   ]
  },
  {
   "cell_type": "code",
   "execution_count": 97,
   "id": "8b7cd35d-60b4-42ee-9137-bb68d472782b",
   "metadata": {},
   "outputs": [
    {
     "data": {
      "text/plain": [
       "array([[7.95454586e+04, 5.68286132e+00, 7.00918814e+00, 4.09000000e+00,\n",
       "        2.30868005e+04],\n",
       "       [7.92486425e+04, 6.00289981e+00, 6.73082102e+00, 3.09000000e+00,\n",
       "        4.01730722e+04],\n",
       "       [6.12870672e+04, 5.86588984e+00, 8.51272743e+00, 5.13000000e+00,\n",
       "        3.68821594e+04],\n",
       "       ...,\n",
       "       [6.33906869e+04, 7.25059061e+00, 4.80508098e+00, 2.13000000e+00,\n",
       "        3.32661455e+04],\n",
       "       [6.80013312e+04, 5.53438842e+00, 7.13014386e+00, 5.44000000e+00,\n",
       "        4.26256202e+04],\n",
       "       [6.55105818e+04, 5.99230531e+00, 6.79233610e+00, 4.07000000e+00,\n",
       "        4.65012838e+04]])"
      ]
     },
     "execution_count": 97,
     "metadata": {},
     "output_type": "execute_result"
    }
   ],
   "source": [
    "X=df.iloc[:,0:5].values\n",
    "y=df.loc[:,['Price']].values\n",
    "X"
   ]
  },
  {
   "cell_type": "code",
   "execution_count": 98,
   "id": "7ce52bd8-20dd-4918-b054-add9eac86e66",
   "metadata": {},
   "outputs": [],
   "source": [
    "from sklearn.model_selection import train_test_split\n",
    "X_train,X_test,y_train,y_test=train_test_split(X,y,test_size=0.3,random_state=52)"
   ]
  },
  {
   "cell_type": "code",
   "execution_count": 99,
   "id": "1c51677e-5d27-4616-b812-68b77b74f332",
   "metadata": {},
   "outputs": [],
   "source": [
    "Mulr.fit(X_train,y_train)"
   ]
  },
  {
   "cell_type": "code",
   "execution_count": 100,
   "id": "96090abc-bda8-4ec0-91e9-8c68c27810d1",
   "metadata": {},
   "outputs": [],
   "source": [
    "y_pred=Mulr.predict(X_test)"
   ]
  },
  {
   "cell_type": "code",
   "execution_count": 101,
   "id": "081316bc-5df5-4f23-bac9-8b19d75a8bbc",
   "metadata": {},
   "outputs": [
    {
     "name": "stdout",
     "output_type": "stream",
     "text": [
      "MAE =  85267.55459688065\n",
      "MSE =  11152883750.422747\n",
      "R2 score =  0.9105715263926233\n",
      "RSE =  105607.21448093756\n"
     ]
    }
   ],
   "source": [
    "\n",
    "from sklearn.metrics import mean_absolute_error,mean_squared_error,r2_score\n",
    "print(\"MAE = \",mean_absolute_error(y_test,y_pred))\n",
    "print(\"MSE = \",mean_squared_error(y_test,y_pred))\n",
    "print(\"R2 score = \",r2_score(y_test,y_pred))\n",
    "print(\"RSE = \",mean_squared_error(y_test,y_pred)**0.5)"
   ]
  },
  {
   "cell_type": "code",
   "execution_count": null,
   "id": "277fb6a6-edf1-4657-bff6-8ff7bb817005",
   "metadata": {},
   "outputs": [],
   "source": []
  }
 ],
 "metadata": {
  "kernelspec": {
   "display_name": "Python 3 (ipykernel)",
   "language": "python",
   "name": "python3"
  },
  "language_info": {
   "codemirror_mode": {
    "name": "ipython",
    "version": 3
   },
   "file_extension": ".py",
   "mimetype": "text/x-python",
   "name": "python",
   "nbconvert_exporter": "python",
   "pygments_lexer": "ipython3",
   "version": "3.11.3"
  }
 },
 "nbformat": 4,
 "nbformat_minor": 5
}
